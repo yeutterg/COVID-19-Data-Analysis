{
 "cells": [
  {
   "cell_type": "code",
   "execution_count": 57,
   "metadata": {},
   "outputs": [],
   "source": [
    "# Run this cell to update data after doing a git pull\n",
    "\n",
    "import csv\n",
    "import pandas as pd\n",
    "import altair as alt\n",
    "\n",
    "# show charts inline\n",
    "alt.renderers.enable('default') #note: you may have to change 'default' to 'notebook' depending on your configuration\n",
    "\n",
    "taiwan_population = 23780000\n",
    "singapore_population = 5639000\n",
    "hongkong_population = 7451000\n",
    "china_population = 1427647786  # mainland\n",
    "usa_population = 329515103\n",
    "italy_population = 60360000\n",
    "southkorea_population = 51640000\n",
    "japan_population = 126500000\n",
    "\n",
    "\n",
    "# Convert a list of strings into a list of ints\n",
    "def to_int(row: list) -> list:\n",
    "    return [int(r) for r in row]\n",
    "\n",
    "\n",
    "# Add values corresponding to the same position in multiple lists \n",
    "# (for countries that have multiple regions in the data)\n",
    "def add_row(old_row: list, new_row: list) -> list:\n",
    "    if old_row == []:\n",
    "        return to_int(new_row)\n",
    "    else:\n",
    "        return[o + int(n) for o, n in zip(old_row, new_row)]\n",
    "            \n",
    "\n",
    "# Get confirmed cases\n",
    "china_confirmed = []\n",
    "with open('./COVID-19/csse_covid_19_data/csse_covid_19_time_series/time_series_covid19_confirmed_global.csv', newline='') as csvfile:\n",
    "    reader = csv.reader(csvfile, delimiter=',')\n",
    "    for row in reader:\n",
    "        if row[1] == \"Country/Region\":\n",
    "            dates = pd.to_datetime(row[4:], format=\"%m/%d/%y\")\n",
    "        elif row[1] == \"Taiwan*\":\n",
    "            taiwan_confirmed = to_int(row[4:])\n",
    "        elif row[1] == \"Singapore\":\n",
    "            singapore_confirmed = to_int(row[4:])\n",
    "        elif row[0] == \"Hong Kong\":\n",
    "            hongkong_confirmed = to_int(row[4:])\n",
    "        elif row[1] == \"China\" and row[0] != \"Hong Kong\":  # mainland\n",
    "            china_confirmed = add_row(china_confirmed, row[4:])\n",
    "        elif row[1] == \"US\":  \n",
    "            usa_confirmed = to_int(row[4:])\n",
    "        elif row[1] == \"Italy\":  \n",
    "            italy_confirmed = to_int(row[4:])\n",
    "        elif row[1] == \"Korea, South\":  \n",
    "            southkorea_confirmed = to_int(row[4:])\n",
    "        elif row[1] == \"Japan\":  \n",
    "            japan_confirmed = to_int(row[4:])\n",
    "        \n",
    "            \n",
    "            \n",
    "# Get deaths\n",
    "china_deaths = []\n",
    "with open('./COVID-19/csse_covid_19_data/csse_covid_19_time_series/time_series_covid19_deaths_global.csv', newline='') as csvfile:\n",
    "    reader = csv.reader(csvfile, delimiter=',')\n",
    "    for row in reader:\n",
    "        if row[1] == \"Taiwan*\":\n",
    "            taiwan_deaths = to_int(row[4:])\n",
    "        elif row[1] == \"Singapore\":\n",
    "            singapore_deaths = to_int(row[4:])\n",
    "        elif row[0] == \"Hong Kong\":\n",
    "            hongkong_deaths = to_int(row[4:])\n",
    "        elif row[1] == \"China\" and row[0] != \"Hong Kong\":  # mainland\n",
    "            china_deaths = add_row(china_deaths, row[4:])\n",
    "        elif row[1] == \"US\": \n",
    "            usa_deaths = to_int(row[4:])\n",
    "        elif row[1] == \"Italy\": \n",
    "            italy_deaths = to_int(row[4:])\n",
    "        elif row[1] == \"Korea, South\":  \n",
    "            southkorea_deaths = to_int(row[4:])\n",
    "        elif row[1] == \"Japan\":  \n",
    "            japan_deaths = to_int(row[4:])\n",
    "            \n",
    "            \n",
    "            \n",
    "as_of_date = dates[-1] # The last date that was recorded\n",
    "            "
   ]
  },
  {
   "cell_type": "code",
   "execution_count": 58,
   "metadata": {},
   "outputs": [
    {
     "name": "stdout",
     "output_type": "stream",
     "text": [
      "As of 2020-04-13\n",
      "Region, Confirmed, Deaths\n",
      "Taiwan 393 6\n",
      "Singapore 2918 9\n",
      "Hong Kong 1009 4\n",
      "South Korea 10537 217\n",
      "Japan 7370 123\n",
      "China 82204 3341\n",
      "USA 580619 23529\n",
      "Italy 159516 20465\n",
      "Total HK, Taiwan, Singapore 4320 19\n"
     ]
    }
   ],
   "source": [
    "# Run this cell to get current stats for the countries we care about\n",
    "\n",
    "# Confirmed over population\n",
    "taiwan_cop = taiwan_confirmed[-1]/taiwan_population\n",
    "singapore_cop = singapore_confirmed[-1]/singapore_population\n",
    "hongkong_cop = hongkong_confirmed[-1]/hongkong_population\n",
    "china_cop = china_confirmed[-1]/china_population\n",
    "usa_cop = usa_confirmed[-1]/usa_population\n",
    "italy_cop = italy_confirmed[-1]/italy_population\n",
    "southkorea_cop = southkorea_confirmed[-1]/southkorea_population\n",
    "japan_cop = japan_confirmed[-1]/japan_population\n",
    "\n",
    "# Deaths over confirmed\n",
    "taiwan_doc = taiwan_deaths[-1]/taiwan_confirmed[-1]\n",
    "singapore_doc = singapore_deaths[-1]/singapore_confirmed[-1]\n",
    "hongkong_doc = hongkong_deaths[-1]/hongkong_confirmed[-1]\n",
    "china_doc = china_deaths[-1]/china_confirmed[-1]\n",
    "usa_doc = usa_deaths[-1]/usa_confirmed[-1]\n",
    "italy_doc = italy_deaths[-1]/italy_confirmed[-1]\n",
    "southkorea_doc = southkorea_deaths[-1]/southkorea_confirmed[-1]\n",
    "japan_doc = japan_deaths[-1]/japan_confirmed[-1]\n",
    "\n",
    "# Deaths over population\n",
    "taiwan_dop = taiwan_deaths[-1]/taiwan_population\n",
    "singapore_dop = singapore_deaths[-1]/singapore_population\n",
    "hongkong_dop = hongkong_deaths[-1]/hongkong_population\n",
    "china_dop = china_deaths[-1]/china_population\n",
    "usa_dop = usa_deaths[-1]/usa_population\n",
    "italy_dop = italy_deaths[-1]/italy_population\n",
    "southkorea_dop = southkorea_deaths[-1]/southkorea_population\n",
    "japan_dop = japan_deaths[-1]/japan_population\n",
    "\n",
    "print('As of', as_of_date.strftime(\"%Y-%m-%d\"))\n",
    "print('Region, Confirmed, Deaths')\n",
    "print('Taiwan', taiwan_confirmed[-1], taiwan_deaths[-1])\n",
    "print('Singapore', singapore_confirmed[-1], singapore_deaths[-1])\n",
    "print('Hong Kong', hongkong_confirmed[-1], hongkong_deaths[-1])\n",
    "print('South Korea', southkorea_confirmed[-1], southkorea_deaths[-1])\n",
    "print('Japan', japan_confirmed[-1], japan_deaths[-1])\n",
    "print('China', china_confirmed[-1], china_deaths[-1])\n",
    "print('USA', usa_confirmed[-1], usa_deaths[-1])\n",
    "print('Italy', italy_confirmed[-1], italy_deaths[-1])\n",
    "print('Total HK, Taiwan, Singapore', hongkong_confirmed[-1]+singapore_confirmed[-1]+taiwan_confirmed[-1], hongkong_deaths[-1]+singapore_deaths[-1]+taiwan_deaths[-1])"
   ]
  },
  {
   "cell_type": "code",
   "execution_count": 52,
   "metadata": {},
   "outputs": [
    {
     "ename": "TypeError",
     "evalue": "unsupported operand type(s) for +: 'Timestamp' and 'str'",
     "output_type": "error",
     "traceback": [
      "\u001b[0;31m---------------------------------------------------------------------------\u001b[0m",
      "\u001b[0;31mTypeError\u001b[0m                                 Traceback (most recent call last)",
      "\u001b[0;32m<ipython-input-52-06aa3bc6da2a>\u001b[0m in \u001b[0;36m<module>\u001b[0;34m\u001b[0m\n\u001b[1;32m     18\u001b[0m     title={\n\u001b[1;32m     19\u001b[0m         \u001b[0;34m\"text\"\u001b[0m\u001b[0;34m:\u001b[0m\u001b[0;34m'COVID-19: Confirmed Cases'\u001b[0m\u001b[0;34m,\u001b[0m\u001b[0;34m\u001b[0m\u001b[0;34m\u001b[0m\u001b[0m\n\u001b[0;32m---> 20\u001b[0;31m         \u001b[0;34m\"subtitle\"\u001b[0m\u001b[0;34m:\u001b[0m\u001b[0;34m'As of '\u001b[0m \u001b[0;34m+\u001b[0m \u001b[0mas_of_date\u001b[0m\u001b[0;34m\u001b[0m\u001b[0;34m\u001b[0m\u001b[0m\n\u001b[0m\u001b[1;32m     21\u001b[0m     }\n\u001b[1;32m     22\u001b[0m )\n",
      "\u001b[0;32mpandas/_libs/tslibs/timestamps.pyx\u001b[0m in \u001b[0;36mpandas._libs.tslibs.timestamps.Timestamp.__radd__\u001b[0;34m()\u001b[0m\n",
      "\u001b[0;31mTypeError\u001b[0m: unsupported operand type(s) for +: 'Timestamp' and 'str'"
     ]
    }
   ],
   "source": [
    "# Run the following cells to get charts comparing rates of infection, death, and population\n",
    "\n",
    "regions = ['Taiwan', 'Singapore', 'Hong Kong', 'South Korea', 'Japan', ' China (Mainland)', 'USA', 'Italy']\n",
    "\n",
    "# Total Cases\n",
    "confirmed = [taiwan_confirmed[-1], singapore_confirmed[-1], hongkong_confirmed[-1], southkorea_confirmed[-1], japan_confirmed[-1], china_confirmed[-1], usa_confirmed[-1], italy_confirmed[-1]]\n",
    "data = pd.DataFrame(list(zip(regions, confirmed)), columns=['Region', 'Cases'])\n",
    "\n",
    "bars = alt.Chart(data).mark_bar().encode(\n",
    "    x=\"Cases:Q\",\n",
    "    y=alt.Y(\"Region:O\", sort='x')\n",
    ").properties(\n",
    "    title={\n",
    "        \"text\":'COVID-19: Confirmed Cases',\n",
    "        \"subtitle\":'As of ' + as_of_date.strftime(\"%B %d, %\")\n",
    "    }\n",
    ")\n",
    "\n",
    "text = alt.Chart(data).mark_text(\n",
    "    align='left',\n",
    "    baseline='middle',\n",
    "    dx=3\n",
    ").encode(\n",
    "    text=\"Cases:Q\",\n",
    "    x=\"Cases:Q\",\n",
    "    y=alt.Y(\"Region:O\", sort='x')\n",
    ")\n",
    "\n",
    "alt.layer(bars, text).configure_axisX(\n",
    "    labelAngle=-45\n",
    ")"
   ]
  },
  {
   "cell_type": "code",
   "execution_count": null,
   "metadata": {},
   "outputs": [],
   "source": []
  },
  {
   "cell_type": "code",
   "execution_count": 4,
   "metadata": {},
   "outputs": [
    {
     "ename": "NameError",
     "evalue": "name 'plt' is not defined",
     "output_type": "error",
     "traceback": [
      "\u001b[0;31m---------------------------------------------------------------------------\u001b[0m",
      "\u001b[0;31mNameError\u001b[0m                                 Traceback (most recent call last)",
      "\u001b[0;32m<ipython-input-4-df78f85a9e2d>\u001b[0m in \u001b[0;36m<module>\u001b[0;34m\u001b[0m\n\u001b[1;32m      1\u001b[0m \u001b[0;31m# Total Deaths\u001b[0m\u001b[0;34m\u001b[0m\u001b[0;34m\u001b[0m\u001b[0;34m\u001b[0m\u001b[0m\n\u001b[1;32m      2\u001b[0m \u001b[0mdeaths\u001b[0m \u001b[0;34m=\u001b[0m \u001b[0;34m[\u001b[0m\u001b[0mtaiwan_deaths\u001b[0m\u001b[0;34m[\u001b[0m\u001b[0;34m-\u001b[0m\u001b[0;36m1\u001b[0m\u001b[0;34m]\u001b[0m\u001b[0;34m,\u001b[0m \u001b[0msingapore_deaths\u001b[0m\u001b[0;34m[\u001b[0m\u001b[0;34m-\u001b[0m\u001b[0;36m1\u001b[0m\u001b[0;34m]\u001b[0m\u001b[0;34m,\u001b[0m \u001b[0mhongkong_deaths\u001b[0m\u001b[0;34m[\u001b[0m\u001b[0;34m-\u001b[0m\u001b[0;36m1\u001b[0m\u001b[0;34m]\u001b[0m\u001b[0;34m,\u001b[0m \u001b[0msouthkorea_deaths\u001b[0m\u001b[0;34m[\u001b[0m\u001b[0;34m-\u001b[0m\u001b[0;36m1\u001b[0m\u001b[0;34m]\u001b[0m\u001b[0;34m,\u001b[0m \u001b[0mjapan_deaths\u001b[0m\u001b[0;34m[\u001b[0m\u001b[0;34m-\u001b[0m\u001b[0;36m1\u001b[0m\u001b[0;34m]\u001b[0m\u001b[0;34m,\u001b[0m \u001b[0mchina_deaths\u001b[0m\u001b[0;34m[\u001b[0m\u001b[0;34m-\u001b[0m\u001b[0;36m1\u001b[0m\u001b[0;34m]\u001b[0m\u001b[0;34m,\u001b[0m \u001b[0musa_deaths\u001b[0m\u001b[0;34m[\u001b[0m\u001b[0;34m-\u001b[0m\u001b[0;36m1\u001b[0m\u001b[0;34m]\u001b[0m\u001b[0;34m,\u001b[0m \u001b[0mitaly_deaths\u001b[0m\u001b[0;34m[\u001b[0m\u001b[0;34m-\u001b[0m\u001b[0;36m1\u001b[0m\u001b[0;34m]\u001b[0m\u001b[0;34m]\u001b[0m\u001b[0;34m\u001b[0m\u001b[0;34m\u001b[0m\u001b[0m\n\u001b[0;32m----> 3\u001b[0;31m \u001b[0mplt\u001b[0m\u001b[0;34m.\u001b[0m\u001b[0mbarh\u001b[0m\u001b[0;34m(\u001b[0m\u001b[0mregions\u001b[0m\u001b[0;34m,\u001b[0m \u001b[0mdeaths\u001b[0m\u001b[0;34m)\u001b[0m\u001b[0;34m\u001b[0m\u001b[0;34m\u001b[0m\u001b[0m\n\u001b[0m\u001b[1;32m      4\u001b[0m \u001b[0mplt\u001b[0m\u001b[0;34m.\u001b[0m\u001b[0mtitle\u001b[0m\u001b[0;34m(\u001b[0m\u001b[0;34m\"Total Deaths\"\u001b[0m\u001b[0;34m)\u001b[0m\u001b[0;34m\u001b[0m\u001b[0;34m\u001b[0m\u001b[0m\n",
      "\u001b[0;31mNameError\u001b[0m: name 'plt' is not defined"
     ]
    }
   ],
   "source": [
    "# Total Deaths\n",
    "deaths = [taiwan_deaths[-1], singapore_deaths[-1], hongkong_deaths[-1], southkorea_deaths[-1], japan_deaths[-1], china_deaths[-1], usa_deaths[-1], italy_deaths[-1]]\n",
    "plt.barh(regions, deaths)\n",
    "plt.title(\"Total Deaths\")"
   ]
  },
  {
   "cell_type": "code",
   "execution_count": null,
   "metadata": {},
   "outputs": [],
   "source": [
    "# Confirmed over population\n",
    "cop = [taiwan_cop, singapore_cop, hongkong_cop, southkorea_cop, japan_cop, china_cop, usa_cop, italy_cop]\n",
    "plt.barh(regions, cop)\n",
    "plt.title(\"Confirmed Cases as % of Population\")"
   ]
  },
  {
   "cell_type": "code",
   "execution_count": null,
   "metadata": {},
   "outputs": [],
   "source": [
    "# Deaths over confirmed\n",
    "doc = [taiwan_doc, singapore_doc, hongkong_doc, southkorea_doc, japan_doc, china_doc, usa_doc, italy_doc]\n",
    "plt.barh(regions, doc)\n",
    "plt.title(\"Deaths as % of Confirmed Cases\")"
   ]
  },
  {
   "cell_type": "code",
   "execution_count": null,
   "metadata": {},
   "outputs": [],
   "source": [
    "# Deaths over population\n",
    "dop = [taiwan_dop, singapore_dop, hongkong_dop, southkorea_dop, japan_dop, china_dop, usa_dop, italy_dop]\n",
    "plt.barh(regions, dop)\n",
    "plt.title(\"Deaths as % of Population\")"
   ]
  },
  {
   "cell_type": "code",
   "execution_count": null,
   "metadata": {},
   "outputs": [],
   "source": [
    "# Trajectory\n",
    "plt.plot(dates, usa_confirmed)\n",
    "plt.title(\"USA Confirmed Cases\")"
   ]
  },
  {
   "cell_type": "code",
   "execution_count": null,
   "metadata": {},
   "outputs": [],
   "source": []
  },
  {
   "cell_type": "code",
   "execution_count": null,
   "metadata": {},
   "outputs": [],
   "source": []
  }
 ],
 "metadata": {
  "kernelspec": {
   "display_name": "Python 3",
   "language": "python",
   "name": "python3"
  },
  "language_info": {
   "codemirror_mode": {
    "name": "ipython",
    "version": 3
   },
   "file_extension": ".py",
   "mimetype": "text/x-python",
   "name": "python",
   "nbconvert_exporter": "python",
   "pygments_lexer": "ipython3",
   "version": "3.7.3"
  }
 },
 "nbformat": 4,
 "nbformat_minor": 4
}
